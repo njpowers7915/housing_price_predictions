{
 "cells": [
  {
   "cell_type": "markdown",
   "metadata": {},
   "source": [
    "# Housing Price Predictions"
   ]
  },
  {
   "cell_type": "code",
   "execution_count": 46,
   "metadata": {},
   "outputs": [],
   "source": [
    "import pandas as pd\n",
    "pd.options.display.max_columns = 99\n",
    "\n",
    "import numpy as np\n",
    "import matplotlib.pyplot as plt\n",
    "from sklearn.model_selection import KFold\n",
    "\n",
    "from sklearn.metrics import mean_squared_error\n",
    "from sklearn import linear_model\n",
    "from sklearn.model_selection import KFold"
   ]
  },
  {
   "cell_type": "code",
   "execution_count": 47,
   "metadata": {},
   "outputs": [],
   "source": [
    "df = pd.read_csv(\"AmesHousing.txt\", delimiter=\"\\t\")\n",
    "#print(df.head())"
   ]
  },
  {
   "cell_type": "code",
   "execution_count": 57,
   "metadata": {},
   "outputs": [
    {
     "data": {
      "text/plain": [
       "array(['BsmtFin SF 1', 'BsmtFin SF 2', 'Bsmt Unf SF', 'Total Bsmt SF',\n",
       "       'Garage Cars', 'Garage Area', 'Bsmt Full Bath', 'Bsmt Half Bath',\n",
       "       'Mas Vnr Area', 'Garage Yr Blt'], dtype=object)"
      ]
     },
     "execution_count": 57,
     "metadata": {},
     "output_type": "execute_result"
    }
   ],
   "source": [
    "#Drop columns with more than 10% missing values\n",
    "num_missing = df.isnull().sum()\n",
    "#print(num_missing)\n",
    "over_x_percent_missing = num_missing[(num_missing > len(df) / 10)].sort_values()\n",
    "#print(over_x_percent_missing)\n",
    "df = df.drop(over_x_percent_missing.index, axis=1)\n",
    "\n",
    "#Drop text columnes with more than 5% missing value\n",
    "text_missing = df.select_dtypes(include=['object']).isnull().sum()\n",
    "text_col_over_x_percent_missing = text_missing[(text_missing > len(df) / 20)].sort_values()\n",
    "#print(over_x_percent_missing)\n",
    "df = df.drop(text_col_over_x_percent_missing.index, axis=1)\n",
    "\n",
    "#Numerical columns...fill in with mean or most common value\n",
    "num_missing = df.select_dtypes(include=['int', 'float']).isnull().sum()\n",
    "cols_to_fix = num_missing[num_missing > 0].sort_values()\n",
    "cols_to_fix.index.values"
   ]
  },
  {
   "cell_type": "code",
   "execution_count": 68,
   "metadata": {},
   "outputs": [
    {
     "data": {
      "text/plain": [
       "0    72\n",
       "dtype: int64"
      ]
     },
     "execution_count": 68,
     "metadata": {},
     "output_type": "execute_result"
    }
   ],
   "source": [
    "replacement_values_dict = {}\n",
    "for col in cols_to_fix.items():\n",
    "    col_average = df[col[0]].dropna().mean()\n",
    "    replacement_values_dict[col[0]] = col_average.round(0)\n",
    "replacement_values_dict\n",
    "#replacement_values_dict = df[cols_to_fix.index].mean()\n",
    "df[cols_to_fix.index.values] = df[cols_to_fix.index.values].fillna(replacement_values_dict)\n",
    "df[cols_to_fix.index.values]\n",
    "df.isnull().sum().value_counts()\n",
    "\n",
    "\n",
    "df = df.dropna(subset=['Electrical']).fillna({'Mas Vnr Type': 'None'}).fillna('NA').copy()\n",
    "#df.isnull().sum().sort_values(ascending=False)\n",
    "df.isnull().sum().value_counts()\n"
   ]
  },
  {
   "cell_type": "code",
   "execution_count": null,
   "metadata": {},
   "outputs": [],
   "source": [
    "#Create new features\n"
   ]
  },
  {
   "cell_type": "code",
   "execution_count": 5,
   "metadata": {},
   "outputs": [
    {
     "data": {
      "text/plain": [
       "57088.25161263909"
      ]
     },
     "execution_count": 5,
     "metadata": {},
     "output_type": "execute_result"
    }
   ],
   "source": [
    "def transform_features(df):\n",
    "    df = df.select_dtypes(include=['integer', 'float'])\n",
    "    return df\n",
    "\n",
    "def select_features(df):\n",
    "    return df[['Gr Liv Area', 'SalePrice']]\n",
    "\n",
    "def train_and_test(df, model):\n",
    "    train = df[:1460]\n",
    "    test = df[1460:]\n",
    "    \n",
    "    features = train.columns.drop(\"SalePrice\")\n",
    "    target = \"SalePrice\"\n",
    "    \n",
    "    model.fit(train[features], train[target])\n",
    "    predictions = model.predict(test[features])\n",
    "    mse = mean_squared_error(test[target], predictions)\n",
    "    rmse = np.sqrt(mse)\n",
    "    \n",
    "    return rmse\n",
    "\n",
    "lr = linear_model.LinearRegression()\n",
    "\n",
    "transformed_df = transform_features(df)\n",
    "filtered_df = select_features(transformed_df)\n",
    "rmse = train_and_test(filtered_df, lr)\n",
    "\n",
    "rmse"
   ]
  }
 ],
 "metadata": {
  "kernelspec": {
   "display_name": "Python 3",
   "language": "python",
   "name": "python3"
  },
  "language_info": {
   "codemirror_mode": {
    "name": "ipython",
    "version": 3
   },
   "file_extension": ".py",
   "mimetype": "text/x-python",
   "name": "python",
   "nbconvert_exporter": "python",
   "pygments_lexer": "ipython3",
   "version": "3.7.2"
  }
 },
 "nbformat": 4,
 "nbformat_minor": 2
}
